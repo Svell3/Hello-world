{
 "cells": [
  {
   "cell_type": "code",
   "execution_count": 2,
   "metadata": {
    "collapsed": true
   },
   "outputs": [],
   "source": [
    "import nltk\n",
    "from nltk.corpus import stopwords\n",
    "from sklearn.feature_extraction.text import TfidfVectorizer\n",
    "from sklearn.decomposition import TruncatedSVD"
   ]
  },
  {
   "cell_type": "code",
   "execution_count": 3,
   "metadata": {
    "collapsed": false
   },
   "outputs": [
    {
     "name": "stdout",
     "output_type": "stream",
     "text": [
      "[nltk_data] Downloading package stopwords to\n",
      "[nltk_data]     C:\\Users\\Dell\\AppData\\Roaming\\nltk_data...\n",
      "[nltk_data]   Unzipping corpora\\stopwords.zip.\n"
     ]
    },
    {
     "data": {
      "text/plain": [
       "True"
      ]
     },
     "execution_count": 3,
     "metadata": {},
     "output_type": "execute_result"
    }
   ],
   "source": [
    "nltk.download('stopwords')"
   ]
  },
  {
   "cell_type": "code",
   "execution_count": 13,
   "metadata": {
    "collapsed": false
   },
   "outputs": [],
   "source": [
    "from sklearn.datasets import fetch_20newsgroups\n",
    "categories = ['rec.sport.baseball']\n",
    "dataset = fetch_20newsgroups(subset='all',shuffle=True, random_state=42, categories=categories)\n",
    "corpus = dataset.data"
   ]
  },
  {
   "cell_type": "code",
   "execution_count": 18,
   "metadata": {
    "collapsed": true
   },
   "outputs": [],
   "source": [
    "stopset = set(stopwords.words('english'))"
   ]
  },
  {
   "cell_type": "code",
   "execution_count": 65,
   "metadata": {
    "collapsed": true
   },
   "outputs": [],
   "source": [
    "stopset.update([ 'nntp', '00', 'gm', '000', 're', '001', '100'  ])"
   ]
  },
  {
   "cell_type": "code",
   "execution_count": 66,
   "metadata": {
    "collapsed": true
   },
   "outputs": [],
   "source": [
    "vectorizer = TfidfVectorizer(stop_words=stopset,\n",
    "                                 use_idf=True, ngram_range=(1, 3))"
   ]
  },
  {
   "cell_type": "code",
   "execution_count": 67,
   "metadata": {
    "collapsed": false
   },
   "outputs": [
    {
     "data": {
      "text/plain": [
       "TfidfVectorizer(analyzer=u'word', binary=False, decode_error=u'strict',\n",
       "        dtype=<type 'numpy.int64'>, encoding=u'utf-8', input=u'content',\n",
       "        lowercase=True, max_df=1.0, max_features=None, min_df=1,\n",
       "        ngram_range=(1, 3), norm=u'l2', preprocessor=None, smooth_idf=True,\n",
       "        stop_words=set([u'all', u'just', u'being', 'text', u'over', u'both', u'through', u'yourselves', 'gm', 'font', u'its', u'before', 'style', 'arial', '21', 'field', u'herself', u'had', u'should', u'to', u'only', u'under', u'ours', u'has', '00gm', u'do', u'them', u'his', u'very', 'neue', 'none', u'they'..., u'why', u'a', u'off', 'amp', u'i', 'quot', u'yours', 'height', u'so', u'the', u'having', u'once']),\n",
       "        strip_accents=None, sublinear_tf=False,\n",
       "        token_pattern=u'(?u)\\\\b\\\\w\\\\w+\\\\b', tokenizer=None, use_idf=True,\n",
       "        vocabulary=None)"
      ]
     },
     "execution_count": 67,
     "metadata": {},
     "output_type": "execute_result"
    }
   ],
   "source": [
    "vectorizer"
   ]
  },
  {
   "cell_type": "code",
   "execution_count": 68,
   "metadata": {
    "collapsed": false
   },
   "outputs": [],
   "source": [
    "X = vectorizer.fit_transform(corpus)"
   ]
  },
  {
   "cell_type": "code",
   "execution_count": 69,
   "metadata": {
    "collapsed": false
   },
   "outputs": [
    {
     "data": {
      "text/plain": [
       "<1x189478 sparse matrix of type '<type 'numpy.float64'>'\n",
       "\twith 232 stored elements in Compressed Sparse Row format>"
      ]
     },
     "execution_count": 69,
     "metadata": {},
     "output_type": "execute_result"
    }
   ],
   "source": [
    "X[0]"
   ]
  },
  {
   "cell_type": "code",
   "execution_count": 70,
   "metadata": {
    "collapsed": false
   },
   "outputs": [
    {
     "name": "stdout",
     "output_type": "stream",
     "text": [
      "  (0, 51175)\t0.0735724960986\n",
      "  (0, 188747)\t0.0735724960986\n",
      "  (0, 28646)\t0.0735724960986\n",
      "  (0, 145745)\t0.0735724960986\n",
      "  (0, 64175)\t0.0735724960986\n",
      "  (0, 77682)\t0.0735724960986\n",
      "  (0, 133025)\t0.0735724960986\n",
      "  (0, 103247)\t0.0735724960986\n",
      "  (0, 66562)\t0.0735724960986\n",
      "  (0, 114371)\t0.0735724960986\n",
      "  (0, 162542)\t0.0735724960986\n",
      "  (0, 180413)\t0.0735724960986\n",
      "  (0, 119483)\t0.0735724960986\n",
      "  (0, 64311)\t0.0735724960986\n",
      "  (0, 103741)\t0.0735724960986\n",
      "  (0, 95336)\t0.0735724960986\n",
      "  (0, 132940)\t0.0735724960986\n",
      "  (0, 142901)\t0.0735724960986\n",
      "  (0, 97941)\t0.0735724960986\n",
      "  (0, 115012)\t0.0735724960986\n",
      "  (0, 164911)\t0.0735724960986\n",
      "  (0, 59393)\t0.0735724960986\n",
      "  (0, 51215)\t0.0735724960986\n",
      "  (0, 35422)\t0.0735724960986\n",
      "  (0, 64301)\t0.0735724960986\n",
      "  :\t:\n",
      "  (0, 185312)\t0.015572689178\n",
      "  (0, 143137)\t0.055287945249\n",
      "  (0, 122150)\t0.110575890498\n",
      "  (0, 37212)\t0.0991543537276\n",
      "  (0, 40384)\t0.104704413246\n",
      "  (0, 16212)\t0.0735724960986\n",
      "  (0, 94736)\t0.110575890498\n",
      "  (0, 25471)\t0.0161070941081\n",
      "  (0, 100626)\t0.0102665249126\n",
      "  (0, 163131)\t0.0607882978882\n",
      "  (0, 47857)\t0.0388639498107\n",
      "  (0, 174556)\t0.0392099084375\n",
      "  (0, 114169)\t0.0607882978882\n",
      "  (0, 174592)\t0.0179676495194\n",
      "  (0, 158247)\t0.0372908726247\n",
      "  (0, 29168)\t0.0306644398966\n",
      "  (0, 121537)\t0.0102871824138\n",
      "  (0, 68106)\t0.124722750148\n",
      "  (0, 51097)\t0.161144604189\n",
      "  (0, 161057)\t0.0102048021309\n",
      "  (0, 59893)\t0.0237688259777\n",
      "  (0, 38452)\t0.050598508755\n",
      "  (0, 38462)\t0.050598508755\n",
      "  (0, 98969)\t0.0495771768638\n",
      "  (0, 186247)\t0.0735724960986\n"
     ]
    }
   ],
   "source": [
    "print X[0]"
   ]
  },
  {
   "cell_type": "code",
   "execution_count": 71,
   "metadata": {
    "collapsed": false
   },
   "outputs": [
    {
     "data": {
      "text/plain": [
       "(994, 189478)"
      ]
     },
     "execution_count": 71,
     "metadata": {},
     "output_type": "execute_result"
    }
   ],
   "source": [
    "X.shape"
   ]
  },
  {
   "cell_type": "code",
   "execution_count": 72,
   "metadata": {
    "collapsed": false
   },
   "outputs": [
    {
     "data": {
      "text/plain": [
       "TruncatedSVD(algorithm='randomized', n_components=27, n_iter=100,\n",
       "       random_state=None, tol=0.0)"
      ]
     },
     "execution_count": 72,
     "metadata": {},
     "output_type": "execute_result"
    }
   ],
   "source": [
    "lsa = TruncatedSVD(n_components=27, n_iter=100)\n",
    "lsa.fit(X)"
   ]
  },
  {
   "cell_type": "code",
   "execution_count": 73,
   "metadata": {
    "collapsed": false
   },
   "outputs": [
    {
     "data": {
      "text/plain": [
       "array([ 0.00057562,  0.00057562,  0.00057562, ...,  0.00102681,\n",
       "        0.00102681,  0.00102681])"
      ]
     },
     "execution_count": 73,
     "metadata": {},
     "output_type": "execute_result"
    }
   ],
   "source": [
    "lsa.components_[0]"
   ]
  },
  {
   "cell_type": "code",
   "execution_count": 74,
   "metadata": {
    "collapsed": false
   },
   "outputs": [
    {
     "name": "stdout",
     "output_type": "stream",
     "text": [
      "Concept 0:\n",
      "edu\n",
      "com\n",
      "year\n",
      "writes\n",
      "team\n",
      "would\n",
      "game\n",
      "article\n",
      "cs\n",
      "baseball\n",
      " \n",
      "Concept 1:\n",
      "team\n",
      "year\n",
      "well\n",
      "good\n",
      "say\n",
      "one\n",
      "organization\n",
      "0000ahc udcps3 cps\n",
      "right\n",
      "average\n",
      " \n",
      "Concept 2:\n",
      "edu\n",
      "year\n",
      "0010 music lib\n",
      "go\n",
      "posting host\n",
      "get\n",
      "won\n",
      "season\n",
      "1993\n",
      "article\n",
      " \n",
      "Concept 3:\n",
      "subject\n",
      "ibm\n",
      "go\n",
      "one\n",
      "players\n",
      "world\n",
      "edu\n",
      "0000ahc udcps3 cps\n",
      "com\n",
      "duke\n",
      " \n",
      "Concept 4:\n",
      "article\n",
      "subject\n",
      "also\n",
      "cs\n",
      "edu\n",
      "year\n",
      "see\n",
      "well\n",
      "player\n",
      "lines\n",
      " \n",
      "Concept 5:\n",
      "com\n",
      "posting\n",
      "team\n",
      "hit\n",
      "better\n",
      "ibm com\n",
      "article\n",
      "000th career win\n",
      "know\n",
      "players\n",
      " \n",
      "Concept 6:\n",
      "edu\n",
      "cs\n",
      "000th career win\n",
      "even\n",
      "hit\n",
      "001211 18457\n",
      "lines\n",
      "writes\n",
      "last\n",
      "players\n",
      " \n",
      "Concept 7:\n",
      "university\n",
      "good\n",
      "last\n",
      "year\n",
      "host\n",
      "writes\n",
      "game\n",
      "0000ahc udcps3 cps\n",
      "posting host\n",
      "hitting\n",
      " \n",
      "Concept 8:\n",
      "com\n",
      "ll\n",
      "writes\n",
      "runs\n",
      "team\n",
      "two\n",
      "well\n",
      "won\n",
      "game\n",
      "000th\n",
      " \n",
      "Concept 9:\n",
      "would\n",
      "001211\n",
      "writes\n",
      "last\n",
      "university\n",
      "like\n",
      "best\n",
      "games\n",
      "say\n",
      "team\n",
      " \n",
      "Concept 10:\n",
      "com\n",
      "0010\n",
      "braves\n",
      "article\n",
      "game\n",
      "team\n",
      "stats\n",
      "games\n",
      "much\n",
      "ll\n",
      " \n",
      "Concept 11:\n",
      "com\n",
      "team\n",
      "subject\n",
      "think\n",
      "would\n",
      "writes\n",
      "0010 music\n",
      "last year\n",
      "better\n",
      "league\n",
      " \n",
      "Concept 12:\n",
      "com\n",
      "cs\n",
      "like\n",
      "0010 music lib\n",
      "000th career win\n",
      "0000ahc udcps3 cps\n",
      "001211 18457\n",
      "game\n",
      "way\n",
      "time\n",
      " \n",
      "Concept 13:\n",
      "com\n",
      "one\n",
      "players\n",
      "well\n",
      "host\n",
      "last\n",
      "get\n",
      "probably\n",
      "jays\n",
      "organization\n",
      " \n",
      "Concept 14:\n",
      "writes\n",
      "writes article\n",
      "organization university\n",
      "article\n",
      "season\n",
      "year\n",
      "001211 18457\n",
      "posting host\n",
      "morris\n",
      "0010 music\n",
      " \n",
      "Concept 15:\n",
      "even\n",
      "games\n",
      "see\n",
      "better\n",
      "time\n",
      "like\n",
      "great\n",
      "fans\n",
      "pitching\n",
      "braves\n",
      " \n",
      "Concept 16:\n",
      "year\n",
      "would\n",
      "0010\n",
      "time\n",
      "000th career win\n",
      "001211 18457 adobe\n",
      "news\n",
      "know\n",
      "good\n",
      "also\n",
      " \n",
      "Concept 17:\n",
      "hit\n",
      "good\n",
      "baseball\n",
      "0000ahc udcps3 cps\n",
      "posting\n",
      "much\n",
      "players\n",
      "lines\n",
      "year\n",
      "know\n",
      " \n",
      "Concept 18:\n",
      "year\n",
      "players\n",
      "runs\n",
      "organization\n",
      "lines\n",
      "article\n",
      "roger\n",
      "good\n",
      "would\n",
      "001211\n",
      " \n",
      "Concept 19:\n",
      "game\n",
      "one\n",
      "0010 music\n",
      "think\n",
      "get\n",
      "organization\n",
      "player\n",
      "like\n",
      "would\n",
      "well\n",
      " \n",
      "Concept 20:\n",
      "com\n",
      "would\n",
      "cs\n",
      "run\n",
      "posting\n",
      "host\n",
      "001211\n",
      "said\n",
      "0010 music lib\n",
      "last\n",
      " \n",
      "Concept 21:\n",
      "baseball\n",
      "university\n",
      "subject\n",
      "game\n",
      "distribution\n",
      "runs\n",
      "hit\n",
      "mike\n",
      "year\n",
      "cs\n",
      " \n",
      "Concept 22:\n",
      "000th career win\n",
      "posting\n",
      "host\n",
      "lines\n",
      "two\n",
      "001211\n",
      "like\n",
      "team\n",
      "league\n",
      "last\n",
      " \n",
      "Concept 23:\n",
      "article\n",
      "year\n",
      "baseball\n",
      "writes\n",
      "runs\n",
      "time\n",
      "base\n",
      "think\n",
      "win\n",
      "two\n",
      " \n",
      "Concept 24:\n",
      "writes\n",
      "year\n",
      "000th\n",
      "time\n",
      "win\n",
      "one\n",
      "player\n",
      "still\n",
      "team\n",
      "players\n",
      " \n",
      "Concept 25:\n",
      "article\n",
      "last\n",
      "0000ahc udcps3 cps\n",
      "0010 music lib\n",
      "would\n",
      "good\n",
      "much\n",
      "edu\n",
      "netcom\n",
      "won\n",
      " \n",
      "Concept 26:\n",
      "posting host\n",
      "last\n",
      "good\n",
      "001211\n",
      "pitching\n",
      "win\n",
      "baseball\n",
      "university\n",
      "0010\n",
      "article\n",
      " \n"
     ]
    }
   ],
   "source": [
    "terms = vectorizer.get_feature_names()\n",
    "for i, comp in enumerate(lsa.components_): \n",
    "    termsInComp = zip (terms,comp)\n",
    "    sortedTerms =  sorted(termsInComp, key=lambda x: x[1], reverse=True) [:10]\n",
    "    print \"Concept %d:\" % i\n",
    "    for term in sortedTerms:\n",
    "        print term[0]\n",
    "    print \" \""
   ]
  },
  {
   "cell_type": "code",
   "execution_count": null,
   "metadata": {
    "collapsed": true
   },
   "outputs": [],
   "source": []
  }
 ],
 "metadata": {
  "kernelspec": {
   "display_name": "Python 2",
   "language": "python",
   "name": "python2"
  },
  "language_info": {
   "codemirror_mode": {
    "name": "ipython",
    "version": 2
   },
   "file_extension": ".py",
   "mimetype": "text/x-python",
   "name": "python",
   "nbconvert_exporter": "python",
   "pygments_lexer": "ipython2",
   "version": "2.7.11"
  }
 },
 "nbformat": 4,
 "nbformat_minor": 0
}

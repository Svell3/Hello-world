{
 "cells": [
  {
   "cell_type": "markdown",
   "metadata": {},
   "source": [
    "## Boston Housing Assignment\n",
    "\n",
    "In this assignment you'll be using linear regression to estimate the cost of house in boston, using a well known dataset.\n",
    "\n",
    "Goals:\n",
    "+  Measure the performance of the model I created using $R^{2}$ and MSE\n",
    "> Learn how to use sklearn.metrics.r2_score and sklearn.metrics.mean_squared_error\n",
    "+  Implement a new model using L2 regularization\n",
    "> Use sklearn.linear_model.Ridge or sklearn.linear_model.Lasso \n",
    "+  Get the best model you can by optimizing the regularization parameter.   "
   ]
  },
  {
   "cell_type": "code",
   "execution_count": 22,
   "metadata": {
    "collapsed": false
   },
   "outputs": [],
   "source": [
    "from sklearn import datasets\n",
    "import pandas as pd\n",
    "from sklearn.preprocessing import StandardScaler\n",
    "from sklearn.cross_validation import train_test_split\n",
    "from sklearn.metrics import mean_squared_error\n",
    "from sklearn.metrics import r2_score\n",
    "from sklearn.linear_model import LinearRegression"
   ]
  },
  {
   "cell_type": "code",
   "execution_count": 23,
   "metadata": {
    "collapsed": false
   },
   "outputs": [
    {
     "name": "stdout",
     "output_type": "stream",
     "text": [
      "Boston House Prices dataset\n",
      "\n",
      "Notes\n",
      "------\n",
      "Data Set Characteristics:  \n",
      "\n",
      "    :Number of Instances: 506 \n",
      "\n",
      "    :Number of Attributes: 13 numeric/categorical predictive\n",
      "    \n",
      "    :Median Value (attribute 14) is usually the target\n",
      "\n",
      "    :Attribute Information (in order):\n",
      "        - CRIM     per capita crime rate by town\n",
      "        - ZN       proportion of residential land zoned for lots over 25,000 sq.ft.\n",
      "        - INDUS    proportion of non-retail business acres per town\n",
      "        - CHAS     Charles River dummy variable (= 1 if tract bounds river; 0 otherwise)\n",
      "        - NOX      nitric oxides concentration (parts per 10 million)\n",
      "        - RM       average number of rooms per dwelling\n",
      "        - AGE      proportion of owner-occupied units built prior to 1940\n",
      "        - DIS      weighted distances to five Boston employment centres\n",
      "        - RAD      index of accessibility to radial highways\n",
      "        - TAX      full-value property-tax rate per $10,000\n",
      "        - PTRATIO  pupil-teacher ratio by town\n",
      "        - B        1000(Bk - 0.63)^2 where Bk is the proportion of blacks by town\n",
      "        - LSTAT    % lower status of the population\n",
      "        - MEDV     Median value of owner-occupied homes in $1000's\n",
      "\n",
      "    :Missing Attribute Values: None\n",
      "\n",
      "    :Creator: Harrison, D. and Rubinfeld, D.L.\n",
      "\n",
      "This is a copy of UCI ML housing dataset.\n",
      "http://archive.ics.uci.edu/ml/datasets/Housing\n",
      "\n",
      "\n",
      "This dataset was taken from the StatLib library which is maintained at Carnegie Mellon University.\n",
      "\n",
      "The Boston house-price data of Harrison, D. and Rubinfeld, D.L. 'Hedonic\n",
      "prices and the demand for clean air', J. Environ. Economics & Management,\n",
      "vol.5, 81-102, 1978.   Used in Belsley, Kuh & Welsch, 'Regression diagnostics\n",
      "...', Wiley, 1980.   N.B. Various transformations are used in the table on\n",
      "pages 244-261 of the latter.\n",
      "\n",
      "The Boston house-price data has been used in many machine learning papers that address regression\n",
      "problems.   \n",
      "     \n",
      "**References**\n",
      "\n",
      "   - Belsley, Kuh & Welsch, 'Regression diagnostics: Identifying Influential Data and Sources of Collinearity', Wiley, 1980. 244-261.\n",
      "   - Quinlan,R. (1993). Combining Instance-Based and Model-Based Learning. In Proceedings on the Tenth International Conference of Machine Learning, 236-243, University of Massachusetts, Amherst. Morgan Kaufmann.\n",
      "   - many more! (see http://archive.ics.uci.edu/ml/datasets/Housing)\n",
      "\n"
     ]
    }
   ],
   "source": [
    "bean = datasets.load_boston()\n",
    "print bean.DESCR"
   ]
  },
  {
   "cell_type": "code",
   "execution_count": 24,
   "metadata": {
    "collapsed": false
   },
   "outputs": [],
   "source": [
    "def load_boston():\n",
    "    scaler = StandardScaler()\n",
    "    boston = datasets.load_boston()\n",
    "    X=boston.data\n",
    "    y=boston.target\n",
    "    X = scaler.fit_transform(X)\n",
    "    return train_test_split(X,y)\n",
    "    "
   ]
  },
  {
   "cell_type": "code",
   "execution_count": 25,
   "metadata": {
    "collapsed": false
   },
   "outputs": [],
   "source": [
    "X_train, X_test, y_train, y_test = load_boston()"
   ]
  },
  {
   "cell_type": "code",
   "execution_count": 26,
   "metadata": {
    "collapsed": false
   },
   "outputs": [
    {
     "data": {
      "text/plain": [
       "(379, 13)"
      ]
     },
     "execution_count": 26,
     "metadata": {},
     "output_type": "execute_result"
    }
   ],
   "source": [
    "X_train.shape"
   ]
  },
  {
   "cell_type": "markdown",
   "metadata": {},
   "source": [
    "### Fitting a Linear Regression\n",
    "\n",
    "It's as easy as instantiating a new regression object (line 1) and giving your regression object your training data\n",
    "(line 2) by calling .fit(independent variables, dependent variable)\n",
    "\n"
   ]
  },
  {
   "cell_type": "code",
   "execution_count": 27,
   "metadata": {
    "collapsed": false
   },
   "outputs": [
    {
     "data": {
      "text/plain": [
       "LinearRegression(copy_X=True, fit_intercept=True, n_jobs=1, normalize=False)"
      ]
     },
     "execution_count": 27,
     "metadata": {},
     "output_type": "execute_result"
    }
   ],
   "source": [
    "\n",
    "clf = LinearRegression()\n",
    "clf.fit(X_train, y_train)"
   ]
  },
  {
   "cell_type": "markdown",
   "metadata": {},
   "source": [
    "### Making a Prediction\n",
    "X_test is our holdout set of data.  We know the answer (y_test) but the computer does not.   \n",
    "\n",
    "Using the command below, I create a tuple for each observation, where I'm combining the real value (y_test) with\n",
    "the value our regressor predicts (clf.predict(X_test))\n",
    "\n",
    "Use a similiar format to get your r2 and mse metrics working.  Using the [scikit learn api](http://scikit-learn.org/stable/modules/model_evaluation.html) if you need help!"
   ]
  },
  {
   "cell_type": "code",
   "execution_count": 28,
   "metadata": {
    "collapsed": false
   },
   "outputs": [
    {
     "data": {
      "text/plain": [
       "[(17.399999999999999, 17.478536449690658),\n",
       " (50.0, 35.972163826231892),\n",
       " (16.699999999999999, 19.841049880148741),\n",
       " (32.200000000000003, 31.243789329706022),\n",
       " (26.600000000000001, 26.884184852889806),\n",
       " (23.899999999999999, 28.161887779249632),\n",
       " (29.0, 33.181087270647893),\n",
       " (26.699999999999999, 34.777331939212203),\n",
       " (23.300000000000001, 21.992857205101629),\n",
       " (31.100000000000001, 31.708408898253531),\n",
       " (22.699999999999999, 24.528507614714666),\n",
       " (44.0, 37.522431540179753),\n",
       " (24.600000000000001, 24.109036735761595),\n",
       " (25.0, 25.122671080374747),\n",
       " (23.199999999999999, 22.349929456257374),\n",
       " (17.399999999999999, 22.205028735870425),\n",
       " (25.0, 22.379651415722385),\n",
       " (31.5, 32.494504903836557),\n",
       " (14.4, 3.4622121562830905),\n",
       " (34.899999999999999, 34.21748621819301),\n",
       " (43.799999999999997, 34.135236554066616),\n",
       " (27.5, 33.572476504497423),\n",
       " (23.699999999999999, 9.5765749305282757),\n",
       " (22.5, 17.731902045800744),\n",
       " (15.4, 17.982448102272972),\n",
       " (21.699999999999999, 23.672084540542372),\n",
       " (21.399999999999999, 20.216271866518024),\n",
       " (31.699999999999999, 33.109029205277153),\n",
       " (24.800000000000001, 26.14721803953001),\n",
       " (8.8000000000000007, 5.9886002561257925),\n",
       " (28.100000000000001, 24.520847296924536),\n",
       " (17.399999999999999, 15.601799312972755),\n",
       " (20.300000000000001, 22.066794896592789),\n",
       " (11.800000000000001, 12.80785876233694),\n",
       " (19.399999999999999, 17.227909595454697),\n",
       " (18.699999999999999, 21.903397422663627),\n",
       " (16.199999999999999, 15.116489167764392),\n",
       " (11.9, 22.832054844592339),\n",
       " (25.0, 24.116874239889274),\n",
       " (29.399999999999999, 30.439028272057126),\n",
       " (33.100000000000001, 36.104827324055442),\n",
       " (20.0, 22.778729432202706),\n",
       " (13.4, 16.37790949669332),\n",
       " (15.6, 16.19543088401737),\n",
       " (24.100000000000001, 29.931640652613954),\n",
       " (22.600000000000001, 22.092266438230421),\n",
       " (17.100000000000001, 18.922611971490554),\n",
       " (23.199999999999999, 25.655154129692445),\n",
       " (14.5, 14.30140245549198),\n",
       " (22.199999999999999, 24.652561009281296),\n",
       " (33.200000000000003, 36.795393068559243),\n",
       " (19.5, 19.24506949593178),\n",
       " (21.699999999999999, 24.378083604679595),\n",
       " (27.0, 34.064315932081563),\n",
       " (50.0, 35.907023651154248),\n",
       " (5.5999999999999996, 11.60631238030577),\n",
       " (21.699999999999999, 25.284744767119026),\n",
       " (30.100000000000001, 35.466327535560644),\n",
       " (8.5, 16.783650363039918),\n",
       " (50.0, 38.825531083776397),\n",
       " (12.5, 19.247122145968824),\n",
       " (20.5, 20.497082845207441),\n",
       " (19.399999999999999, 16.962031235001191),\n",
       " (25.0, 28.686857695615636),\n",
       " (32.0, 33.921540372672538),\n",
       " (23.0, 31.0774859589973),\n",
       " (19.5, 19.833323430404455),\n",
       " (13.300000000000001, 13.423340607828035),\n",
       " (23.600000000000001, 30.954737663870631),\n",
       " (13.800000000000001, 10.738482605696905),\n",
       " (24.699999999999999, 23.791637445621213),\n",
       " (20.300000000000001, 23.927475308678822),\n",
       " (22.0, 27.789020120834333),\n",
       " (24.100000000000001, 24.483778667624158),\n",
       " (35.100000000000001, 34.984612510247203),\n",
       " (14.9, 17.169423670521972),\n",
       " (17.199999999999999, 13.928337841005881),\n",
       " (20.800000000000001, 19.487246270285013),\n",
       " (20.0, 18.728502645519878),\n",
       " (14.800000000000001, 15.014110878181814),\n",
       " (20.100000000000001, 22.026772188190449),\n",
       " (13.6, 12.985082359222307),\n",
       " (14.9, 17.771018320138019),\n",
       " (9.5999999999999996, 14.492681389517369),\n",
       " (34.600000000000001, 34.374023867208791),\n",
       " (23.699999999999999, 28.102004925738914),\n",
       " (8.6999999999999993, 8.6330953191315487),\n",
       " (33.100000000000001, 32.167580781635777),\n",
       " (37.0, 30.283374225277079),\n",
       " (19.0, 14.72978509944657),\n",
       " (24.699999999999999, 22.784046210266911),\n",
       " (23.100000000000001, 20.531309745998339),\n",
       " (20.100000000000001, 20.393062273372397),\n",
       " (23.5, 30.789951139775475),\n",
       " (13.1, 20.364424172683488),\n",
       " (21.399999999999999, 25.068232765300138),\n",
       " (13.6, 13.118306335668949),\n",
       " (50.0, 39.658773339386308),\n",
       " (28.699999999999999, 30.656882253405854),\n",
       " (20.600000000000001, 27.166773808030882),\n",
       " (11.9, 9.4629092093558747),\n",
       " (24.399999999999999, 23.815567000130244),\n",
       " (18.399999999999999, 15.688778168387717),\n",
       " (25.0, 27.198860672809051),\n",
       " (21.899999999999999, 16.853874809755162),\n",
       " (20.300000000000001, 18.8426249288595),\n",
       " (10.800000000000001, 11.58944402809192),\n",
       " (33.399999999999999, 35.918942310751092),\n",
       " (17.199999999999999, 16.794773436527969),\n",
       " (9.5, 12.810494581510266),\n",
       " (14.0, 12.698078900805697),\n",
       " (22.800000000000001, 26.380807119428095),\n",
       " (12.6, 18.303357862300953),\n",
       " (31.199999999999999, 28.52006968413848),\n",
       " (21.100000000000001, 22.33915540279104),\n",
       " (27.899999999999999, 21.040033853427854),\n",
       " (14.300000000000001, 13.928285496087076),\n",
       " (19.600000000000001, 18.359088251638152),\n",
       " (28.600000000000001, 27.239066702148918),\n",
       " (48.299999999999997, 36.328149229693835),\n",
       " (22.899999999999999, 22.942666723262576),\n",
       " (14.5, 18.218960149454908),\n",
       " (18.600000000000001, 20.335088009949917),\n",
       " (18.899999999999999, 18.864387481568457),\n",
       " (19.399999999999999, 23.718319582272144),\n",
       " (11.300000000000001, 13.814276970797112),\n",
       " (45.399999999999999, 38.303338397197919)]"
      ]
     },
     "execution_count": 28,
     "metadata": {},
     "output_type": "execute_result"
    }
   ],
   "source": [
    "zip (y_test, clf.predict(X_test))"
   ]
  },
  {
   "cell_type": "code",
   "execution_count": 29,
   "metadata": {
    "collapsed": false
   },
   "outputs": [
    {
     "data": {
      "text/plain": [
       "0.74427920849920981"
      ]
     },
     "execution_count": 29,
     "metadata": {},
     "output_type": "execute_result"
    }
   ],
   "source": [
    "# Measuring the performance of the model using R2\n",
    "r2_score(y_test, clf.predict(X_test))"
   ]
  },
  {
   "cell_type": "code",
   "execution_count": 30,
   "metadata": {
    "collapsed": false
   },
   "outputs": [
    {
     "data": {
      "text/plain": [
       "21.508591901658516"
      ]
     },
     "execution_count": 30,
     "metadata": {},
     "output_type": "execute_result"
    }
   ],
   "source": [
    "# Measuring the performance of the model using MSE\n",
    "mean_squared_error(y_test, clf.predict(X_test))"
   ]
  },
  {
   "cell_type": "code",
   "execution_count": 31,
   "metadata": {
    "collapsed": false
   },
   "outputs": [
    {
     "data": {
      "text/plain": [
       "Ridge(alpha=1.0, copy_X=True, fit_intercept=True, max_iter=None,\n",
       "   normalize=False, random_state=None, solver='auto', tol=0.001)"
      ]
     },
     "execution_count": 31,
     "metadata": {},
     "output_type": "execute_result"
    }
   ],
   "source": [
    "# Ridge\n",
    "from sklearn.linear_model import Ridge\n",
    "clf = Ridge(alpha = 1.0)\n",
    "clf.fit(X_train, y_train)\n",
    "Ridge(alpha=1.0, copy_X=True, fit_intercept=True, max_iter=None,\n",
    "      normalize=False, random_state=None, solver='auto', tol=0.001)"
   ]
  },
  {
   "cell_type": "code",
   "execution_count": 32,
   "metadata": {
    "collapsed": false
   },
   "outputs": [
    {
     "data": {
      "text/plain": [
       "0.74497883596792303"
      ]
     },
     "execution_count": 32,
     "metadata": {},
     "output_type": "execute_result"
    }
   ],
   "source": [
    "# Measuring the performance of the model using R2\n",
    "r2_score(y_test, clf.predict(X_test))"
   ]
  },
  {
   "cell_type": "code",
   "execution_count": 33,
   "metadata": {
    "collapsed": false
   },
   "outputs": [
    {
     "data": {
      "text/plain": [
       "21.44974646472933"
      ]
     },
     "execution_count": 33,
     "metadata": {},
     "output_type": "execute_result"
    }
   ],
   "source": [
    "# Measuring the performance of the model using MSE\n",
    "mean_squared_error(y_test, clf.predict(X_test))"
   ]
  },
  {
   "cell_type": "markdown",
   "metadata": {},
   "source": [
    "Based on r2 (high r2) and MSE (low MSE), it seems that Ridge perfomed better than the previous model."
   ]
  }
 ],
 "metadata": {
  "kernelspec": {
   "display_name": "Python 2",
   "language": "python",
   "name": "python2"
  },
  "language_info": {
   "codemirror_mode": {
    "name": "ipython",
    "version": 2
   },
   "file_extension": ".py",
   "mimetype": "text/x-python",
   "name": "python",
   "nbconvert_exporter": "python",
   "pygments_lexer": "ipython2",
   "version": "2.7.11"
  }
 },
 "nbformat": 4,
 "nbformat_minor": 0
}
